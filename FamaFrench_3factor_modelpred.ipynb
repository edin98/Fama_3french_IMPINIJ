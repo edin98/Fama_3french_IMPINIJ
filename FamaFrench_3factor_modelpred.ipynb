{
 "cells": [
  {
   "cell_type": "markdown",
   "id": "6646c304-918d-4445-9880-8d888ab82afb",
   "metadata": {},
   "source": [
    "In this project I will analyze stocks and entire industries using the FAMA FRENCH THREE FACTOR MODEL. I will make predictions using the models for monthly periods. And then compared the predictions to the actual value that was for that given month. Separate train-test-split. \n",
    "This model is a cross-sectional model and not a time series, which is counterintuitive since it has monthly data. "
   ]
  },
  {
   "cell_type": "markdown",
   "id": "f907bac4-51bd-4ffb-b04d-a5220b3252b9",
   "metadata": {},
   "source": [
    "The Fama and French model has three factors: the size of firms, book-to-market values, and excess return on the market. In other words, the three factors used are small minus big (SMB), high minus low (HML), and the portfolio's return less the risk-free rate of return."
   ]
  },
  {
   "cell_type": "markdown",
   "id": "ef996481-98fb-4d49-b5dd-03e2553ef9cf",
   "metadata": {},
   "source": [
    "HML: hight book-to-market value minus low book-to-market value\n",
    "SMB: small cap companies return minus big cap companies return"
   ]
  },
  {
   "cell_type": "code",
   "execution_count": 295,
   "id": "790b26e0-b643-4152-b8e9-775751cbc68e",
   "metadata": {},
   "outputs": [],
   "source": [
    "import pandas as pd\n",
    "import yfinance as yf\n",
    "from datetime import datetime\n",
    "import getFamaFrenchFactors as gff\n",
    "import matplotlib.pyplot as plt\n",
    "import seaborn as sns\n",
    "%matplotlib inline\n",
    "\n",
    "pd.set_option('display.max_columns', None)\n",
    "pd.set_option('display.max_rows', 8)"
   ]
  },
  {
   "cell_type": "code",
   "execution_count": 296,
   "id": "3b44f4a3-f53c-454b-b568-c4693471209c",
   "metadata": {},
   "outputs": [],
   "source": [
    "ticker = 'PI'\n",
    "start = '2016-12-01'\n",
    "end = datetime.now().strftime('%Y-%m-%d')"
   ]
  },
  {
   "cell_type": "code",
   "execution_count": 297,
   "id": "04fb8fd6-d096-4b7d-863c-91e96224ecc9",
   "metadata": {},
   "outputs": [
    {
     "name": "stdout",
     "output_type": "stream",
     "text": [
      "[*********************100%%**********************]  1 of 1 completed\n"
     ]
    }
   ],
   "source": [
    "stock_data = yf.download(ticker, start, end, interval='1mo')"
   ]
  },
  {
   "cell_type": "code",
   "execution_count": 298,
   "id": "e7e83490-3b5f-4d9e-8339-1f7cf7085f6e",
   "metadata": {},
   "outputs": [],
   "source": [
    "stock_data = stock_data.loc[:'2023-07-31\t']"
   ]
  },
  {
   "cell_type": "code",
   "execution_count": 299,
   "id": "0c623e4a-6d73-4bc2-82da-acb578cc5673",
   "metadata": {},
   "outputs": [
    {
     "data": {
      "text/html": [
       "<div>\n",
       "<style scoped>\n",
       "    .dataframe tbody tr th:only-of-type {\n",
       "        vertical-align: middle;\n",
       "    }\n",
       "\n",
       "    .dataframe tbody tr th {\n",
       "        vertical-align: top;\n",
       "    }\n",
       "\n",
       "    .dataframe thead th {\n",
       "        text-align: right;\n",
       "    }\n",
       "</style>\n",
       "<table border=\"1\" class=\"dataframe\">\n",
       "  <thead>\n",
       "    <tr style=\"text-align: right;\">\n",
       "      <th></th>\n",
       "      <th>Open</th>\n",
       "      <th>High</th>\n",
       "      <th>Low</th>\n",
       "      <th>Close</th>\n",
       "      <th>Adj Close</th>\n",
       "      <th>Volume</th>\n",
       "    </tr>\n",
       "    <tr>\n",
       "      <th>Date</th>\n",
       "      <th></th>\n",
       "      <th></th>\n",
       "      <th></th>\n",
       "      <th></th>\n",
       "      <th></th>\n",
       "      <th></th>\n",
       "    </tr>\n",
       "  </thead>\n",
       "  <tbody>\n",
       "    <tr>\n",
       "      <th>2016-12-01</th>\n",
       "      <td>27.420000</td>\n",
       "      <td>41.910000</td>\n",
       "      <td>26.400000</td>\n",
       "      <td>35.340000</td>\n",
       "      <td>35.340000</td>\n",
       "      <td>18103800</td>\n",
       "    </tr>\n",
       "    <tr>\n",
       "      <th>2017-01-01</th>\n",
       "      <td>36.880001</td>\n",
       "      <td>36.930000</td>\n",
       "      <td>29.357000</td>\n",
       "      <td>35.209999</td>\n",
       "      <td>35.209999</td>\n",
       "      <td>13055300</td>\n",
       "    </tr>\n",
       "    <tr>\n",
       "      <th>2017-02-01</th>\n",
       "      <td>35.200001</td>\n",
       "      <td>37.419998</td>\n",
       "      <td>28.320000</td>\n",
       "      <td>28.360001</td>\n",
       "      <td>28.360001</td>\n",
       "      <td>20216500</td>\n",
       "    </tr>\n",
       "    <tr>\n",
       "      <th>2017-03-01</th>\n",
       "      <td>28.629999</td>\n",
       "      <td>30.805000</td>\n",
       "      <td>26.690001</td>\n",
       "      <td>30.270000</td>\n",
       "      <td>30.270000</td>\n",
       "      <td>15028000</td>\n",
       "    </tr>\n",
       "    <tr>\n",
       "      <th>...</th>\n",
       "      <td>...</td>\n",
       "      <td>...</td>\n",
       "      <td>...</td>\n",
       "      <td>...</td>\n",
       "      <td>...</td>\n",
       "      <td>...</td>\n",
       "    </tr>\n",
       "    <tr>\n",
       "      <th>2023-04-01</th>\n",
       "      <td>135.000000</td>\n",
       "      <td>142.699997</td>\n",
       "      <td>80.099998</td>\n",
       "      <td>88.410004</td>\n",
       "      <td>88.410004</td>\n",
       "      <td>16275000</td>\n",
       "    </tr>\n",
       "    <tr>\n",
       "      <th>2023-05-01</th>\n",
       "      <td>88.410004</td>\n",
       "      <td>104.360001</td>\n",
       "      <td>84.510002</td>\n",
       "      <td>102.339996</td>\n",
       "      <td>102.339996</td>\n",
       "      <td>12386600</td>\n",
       "    </tr>\n",
       "    <tr>\n",
       "      <th>2023-06-01</th>\n",
       "      <td>102.459999</td>\n",
       "      <td>116.430000</td>\n",
       "      <td>82.570000</td>\n",
       "      <td>89.650002</td>\n",
       "      <td>89.650002</td>\n",
       "      <td>14111700</td>\n",
       "    </tr>\n",
       "    <tr>\n",
       "      <th>2023-07-01</th>\n",
       "      <td>89.699997</td>\n",
       "      <td>91.847000</td>\n",
       "      <td>64.820000</td>\n",
       "      <td>66.620003</td>\n",
       "      <td>66.620003</td>\n",
       "      <td>13775500</td>\n",
       "    </tr>\n",
       "  </tbody>\n",
       "</table>\n",
       "<p>80 rows × 6 columns</p>\n",
       "</div>"
      ],
      "text/plain": [
       "                  Open        High        Low       Close   Adj Close  \\\n",
       "Date                                                                    \n",
       "2016-12-01   27.420000   41.910000  26.400000   35.340000   35.340000   \n",
       "2017-01-01   36.880001   36.930000  29.357000   35.209999   35.209999   \n",
       "2017-02-01   35.200001   37.419998  28.320000   28.360001   28.360001   \n",
       "2017-03-01   28.629999   30.805000  26.690001   30.270000   30.270000   \n",
       "...                ...         ...        ...         ...         ...   \n",
       "2023-04-01  135.000000  142.699997  80.099998   88.410004   88.410004   \n",
       "2023-05-01   88.410004  104.360001  84.510002  102.339996  102.339996   \n",
       "2023-06-01  102.459999  116.430000  82.570000   89.650002   89.650002   \n",
       "2023-07-01   89.699997   91.847000  64.820000   66.620003   66.620003   \n",
       "\n",
       "              Volume  \n",
       "Date                  \n",
       "2016-12-01  18103800  \n",
       "2017-01-01  13055300  \n",
       "2017-02-01  20216500  \n",
       "2017-03-01  15028000  \n",
       "...              ...  \n",
       "2023-04-01  16275000  \n",
       "2023-05-01  12386600  \n",
       "2023-06-01  14111700  \n",
       "2023-07-01  13775500  \n",
       "\n",
       "[80 rows x 6 columns]"
      ]
     },
     "execution_count": 299,
     "metadata": {},
     "output_type": "execute_result"
    }
   ],
   "source": [
    "stock_data"
   ]
  },
  {
   "cell_type": "code",
   "execution_count": 300,
   "id": "0ab8b79d-caa8-4404-8961-1670db54645c",
   "metadata": {},
   "outputs": [],
   "source": [
    "ff3_monthly = gff.famaFrench3Factor(frequency='m')\n",
    "ff3_monthly.rename(columns={\"date_ff_factors\": 'Date'}, inplace=True)\n",
    "ff3_monthly.set_index('Date', inplace=True)"
   ]
  },
  {
   "cell_type": "code",
   "execution_count": 301,
   "id": "18044f17-4b43-465a-b906-773dad9c55ef",
   "metadata": {},
   "outputs": [],
   "source": [
    "ff3_monthly = ff3_monthly.loc['2017-01-01\t':]"
   ]
  },
  {
   "cell_type": "code",
   "execution_count": 302,
   "id": "a9c644bd-4d68-4874-9ef3-a37819566d87",
   "metadata": {},
   "outputs": [
    {
     "data": {
      "text/html": [
       "<div>\n",
       "<style scoped>\n",
       "    .dataframe tbody tr th:only-of-type {\n",
       "        vertical-align: middle;\n",
       "    }\n",
       "\n",
       "    .dataframe tbody tr th {\n",
       "        vertical-align: top;\n",
       "    }\n",
       "\n",
       "    .dataframe thead th {\n",
       "        text-align: right;\n",
       "    }\n",
       "</style>\n",
       "<table border=\"1\" class=\"dataframe\">\n",
       "  <thead>\n",
       "    <tr style=\"text-align: right;\">\n",
       "      <th></th>\n",
       "      <th>Mkt-RF</th>\n",
       "      <th>SMB</th>\n",
       "      <th>HML</th>\n",
       "      <th>RF</th>\n",
       "    </tr>\n",
       "    <tr>\n",
       "      <th>Date</th>\n",
       "      <th></th>\n",
       "      <th></th>\n",
       "      <th></th>\n",
       "      <th></th>\n",
       "    </tr>\n",
       "  </thead>\n",
       "  <tbody>\n",
       "    <tr>\n",
       "      <th>2017-01-31</th>\n",
       "      <td>0.0194</td>\n",
       "      <td>-0.0119</td>\n",
       "      <td>-0.0275</td>\n",
       "      <td>0.0004</td>\n",
       "    </tr>\n",
       "    <tr>\n",
       "      <th>2017-02-28</th>\n",
       "      <td>0.0357</td>\n",
       "      <td>-0.0205</td>\n",
       "      <td>-0.0167</td>\n",
       "      <td>0.0004</td>\n",
       "    </tr>\n",
       "    <tr>\n",
       "      <th>2017-03-31</th>\n",
       "      <td>0.0017</td>\n",
       "      <td>0.0114</td>\n",
       "      <td>-0.0335</td>\n",
       "      <td>0.0003</td>\n",
       "    </tr>\n",
       "    <tr>\n",
       "      <th>2017-04-30</th>\n",
       "      <td>0.0109</td>\n",
       "      <td>0.0073</td>\n",
       "      <td>-0.0213</td>\n",
       "      <td>0.0005</td>\n",
       "    </tr>\n",
       "    <tr>\n",
       "      <th>...</th>\n",
       "      <td>...</td>\n",
       "      <td>...</td>\n",
       "      <td>...</td>\n",
       "      <td>...</td>\n",
       "    </tr>\n",
       "    <tr>\n",
       "      <th>2023-04-30</th>\n",
       "      <td>0.0061</td>\n",
       "      <td>-0.0335</td>\n",
       "      <td>-0.0004</td>\n",
       "      <td>0.0035</td>\n",
       "    </tr>\n",
       "    <tr>\n",
       "      <th>2023-05-31</th>\n",
       "      <td>0.0035</td>\n",
       "      <td>0.0161</td>\n",
       "      <td>-0.0772</td>\n",
       "      <td>0.0036</td>\n",
       "    </tr>\n",
       "    <tr>\n",
       "      <th>2023-06-30</th>\n",
       "      <td>0.0646</td>\n",
       "      <td>0.0154</td>\n",
       "      <td>-0.0026</td>\n",
       "      <td>0.0040</td>\n",
       "    </tr>\n",
       "    <tr>\n",
       "      <th>2023-07-31</th>\n",
       "      <td>0.0321</td>\n",
       "      <td>0.0207</td>\n",
       "      <td>0.0413</td>\n",
       "      <td>0.0045</td>\n",
       "    </tr>\n",
       "  </tbody>\n",
       "</table>\n",
       "<p>79 rows × 4 columns</p>\n",
       "</div>"
      ],
      "text/plain": [
       "            Mkt-RF     SMB     HML      RF\n",
       "Date                                      \n",
       "2017-01-31  0.0194 -0.0119 -0.0275  0.0004\n",
       "2017-02-28  0.0357 -0.0205 -0.0167  0.0004\n",
       "2017-03-31  0.0017  0.0114 -0.0335  0.0003\n",
       "2017-04-30  0.0109  0.0073 -0.0213  0.0005\n",
       "...            ...     ...     ...     ...\n",
       "2023-04-30  0.0061 -0.0335 -0.0004  0.0035\n",
       "2023-05-31  0.0035  0.0161 -0.0772  0.0036\n",
       "2023-06-30  0.0646  0.0154 -0.0026  0.0040\n",
       "2023-07-31  0.0321  0.0207  0.0413  0.0045\n",
       "\n",
       "[79 rows x 4 columns]"
      ]
     },
     "execution_count": 302,
     "metadata": {},
     "output_type": "execute_result"
    }
   ],
   "source": [
    "ff3_monthly"
   ]
  },
  {
   "cell_type": "code",
   "execution_count": 303,
   "id": "faa0fa3d-f71b-41fa-a191-13c06f6c9353",
   "metadata": {},
   "outputs": [],
   "source": [
    "stock_return = stock_data['Adj Close'].resample('M').last().pct_change().dropna()\n",
    "stock_return = stock_return.to_frame()\n",
    "stock_return.rename({'Adj Close':'Month_rtn'}, axis=1, inplace=True)"
   ]
  },
  {
   "cell_type": "code",
   "execution_count": 304,
   "id": "64836f61-3fa9-4c94-90b8-51cbf02f9284",
   "metadata": {},
   "outputs": [],
   "source": [
    "ff_data = stock_return.merge(ff3_monthly, on=\"Date\")\n",
    "ff_data['y'] = ff_data['Month_rtn'] - ff_data['RF']\n",
    "ff_data.drop(['Month_rtn','RF'], axis=1, inplace=True)\n",
    "#Where 'y' is the extra return you get from investing in IMPINJ Inc instead of riskfree"
   ]
  },
  {
   "cell_type": "code",
   "execution_count": 305,
   "id": "0a70a5dc-9123-452b-8e91-a0a757ec4673",
   "metadata": {},
   "outputs": [
    {
     "data": {
      "text/html": [
       "<div>\n",
       "<style scoped>\n",
       "    .dataframe tbody tr th:only-of-type {\n",
       "        vertical-align: middle;\n",
       "    }\n",
       "\n",
       "    .dataframe tbody tr th {\n",
       "        vertical-align: top;\n",
       "    }\n",
       "\n",
       "    .dataframe thead th {\n",
       "        text-align: right;\n",
       "    }\n",
       "</style>\n",
       "<table border=\"1\" class=\"dataframe\">\n",
       "  <thead>\n",
       "    <tr style=\"text-align: right;\">\n",
       "      <th></th>\n",
       "      <th>Mkt-RF</th>\n",
       "      <th>SMB</th>\n",
       "      <th>HML</th>\n",
       "      <th>y</th>\n",
       "    </tr>\n",
       "    <tr>\n",
       "      <th>Date</th>\n",
       "      <th></th>\n",
       "      <th></th>\n",
       "      <th></th>\n",
       "      <th></th>\n",
       "    </tr>\n",
       "  </thead>\n",
       "  <tbody>\n",
       "    <tr>\n",
       "      <th>2017-01-31</th>\n",
       "      <td>0.0194</td>\n",
       "      <td>-0.0119</td>\n",
       "      <td>-0.0275</td>\n",
       "      <td>-0.004079</td>\n",
       "    </tr>\n",
       "    <tr>\n",
       "      <th>2017-02-28</th>\n",
       "      <td>0.0357</td>\n",
       "      <td>-0.0205</td>\n",
       "      <td>-0.0167</td>\n",
       "      <td>-0.194947</td>\n",
       "    </tr>\n",
       "    <tr>\n",
       "      <th>2017-03-31</th>\n",
       "      <td>0.0017</td>\n",
       "      <td>0.0114</td>\n",
       "      <td>-0.0335</td>\n",
       "      <td>0.067048</td>\n",
       "    </tr>\n",
       "    <tr>\n",
       "      <th>2017-04-30</th>\n",
       "      <td>0.0109</td>\n",
       "      <td>0.0073</td>\n",
       "      <td>-0.0213</td>\n",
       "      <td>0.237690</td>\n",
       "    </tr>\n",
       "    <tr>\n",
       "      <th>...</th>\n",
       "      <td>...</td>\n",
       "      <td>...</td>\n",
       "      <td>...</td>\n",
       "      <td>...</td>\n",
       "    </tr>\n",
       "    <tr>\n",
       "      <th>2023-04-30</th>\n",
       "      <td>0.0061</td>\n",
       "      <td>-0.0335</td>\n",
       "      <td>-0.0004</td>\n",
       "      <td>-0.351124</td>\n",
       "    </tr>\n",
       "    <tr>\n",
       "      <th>2023-05-31</th>\n",
       "      <td>0.0035</td>\n",
       "      <td>0.0161</td>\n",
       "      <td>-0.0772</td>\n",
       "      <td>0.153961</td>\n",
       "    </tr>\n",
       "    <tr>\n",
       "      <th>2023-06-30</th>\n",
       "      <td>0.0646</td>\n",
       "      <td>0.0154</td>\n",
       "      <td>-0.0026</td>\n",
       "      <td>-0.127998</td>\n",
       "    </tr>\n",
       "    <tr>\n",
       "      <th>2023-07-31</th>\n",
       "      <td>0.0321</td>\n",
       "      <td>0.0207</td>\n",
       "      <td>0.0413</td>\n",
       "      <td>-0.261388</td>\n",
       "    </tr>\n",
       "  </tbody>\n",
       "</table>\n",
       "<p>79 rows × 4 columns</p>\n",
       "</div>"
      ],
      "text/plain": [
       "            Mkt-RF     SMB     HML         y\n",
       "Date                                        \n",
       "2017-01-31  0.0194 -0.0119 -0.0275 -0.004079\n",
       "2017-02-28  0.0357 -0.0205 -0.0167 -0.194947\n",
       "2017-03-31  0.0017  0.0114 -0.0335  0.067048\n",
       "2017-04-30  0.0109  0.0073 -0.0213  0.237690\n",
       "...            ...     ...     ...       ...\n",
       "2023-04-30  0.0061 -0.0335 -0.0004 -0.351124\n",
       "2023-05-31  0.0035  0.0161 -0.0772  0.153961\n",
       "2023-06-30  0.0646  0.0154 -0.0026 -0.127998\n",
       "2023-07-31  0.0321  0.0207  0.0413 -0.261388\n",
       "\n",
       "[79 rows x 4 columns]"
      ]
     },
     "execution_count": 305,
     "metadata": {},
     "output_type": "execute_result"
    }
   ],
   "source": [
    "ff_data"
   ]
  },
  {
   "cell_type": "code",
   "execution_count": 306,
   "id": "453567c0-37f9-4b2f-971e-1e3a8b0ccdbe",
   "metadata": {},
   "outputs": [],
   "source": [
    "#ff_data.describe()\n",
    "#ff_data.info()"
   ]
  },
  {
   "cell_type": "markdown",
   "id": "ac5c3afc-8222-4c75-bf55-be35df98a735",
   "metadata": {},
   "source": [
    "Exploratory data analysis"
   ]
  },
  {
   "cell_type": "code",
   "execution_count": 307,
   "id": "0c6cd9c2-a224-4bf2-8fb1-0479b79a1e50",
   "metadata": {
    "scrolled": true
   },
   "outputs": [
    {
     "data": {
      "text/plain": [
       "<seaborn.axisgrid.PairGrid at 0x7fda0d33d3c0>"
      ]
     },
     "execution_count": 307,
     "metadata": {},
     "output_type": "execute_result"
    },
    {
     "data": {
      "image/png": "[encoded data removed]",
      "text/plain": [
       "<Figure size 1000x1000 with 20 Axes>"
      ]
     },
     "metadata": {},
     "output_type": "display_data"
    }
   ],
   "source": [
    "sns.pairplot(ff_data)"
   ]
  },
  {
   "cell_type": "markdown",
   "id": "7f765ae2-f69f-42b7-bcfd-f416ce24ecc3",
   "metadata": {},
   "source": [
    "Training of the data"
   ]
  },
  {
   "cell_type": "code",
   "execution_count": 308,
   "id": "d6cf7721-c07b-4868-a020-ac4b5468386f",
   "metadata": {},
   "outputs": [],
   "source": [
    "y = ff_data['y']\n",
    "X = ff_data[['Mkt-RF', 'SMB', 'HML']]"
   ]
  },
  {
   "cell_type": "code",
   "execution_count": 309,
   "id": "324a7b99-95ed-4013-8797-3128425e96ac",
   "metadata": {},
   "outputs": [],
   "source": [
    "from sklearn.model_selection import train_test_split\n",
    "from sklearn.linear_model import LinearRegression"
   ]
  },
  {
   "cell_type": "code",
   "execution_count": 310,
   "id": "c96f9d90-7a3d-4171-8a9a-4374e95285c2",
   "metadata": {},
   "outputs": [],
   "source": [
    "X_train, X_test, y_train, y_test = train_test_split(X, y, test_size=0.3, random_state=101)"
   ]
  },
  {
   "cell_type": "code",
   "execution_count": 311,
   "id": "a0b0ffa4-36ee-48d0-8a6a-7abc8ff89288",
   "metadata": {},
   "outputs": [
    {
     "data": {
      "text/html": [
       "<style>#sk-container-id-5 {color: black;background-color: white;}#sk-container-id-5 pre{padding: 0;}#sk-container-id-5 div.sk-toggleable {background-color: white;}#sk-container-id-5 label.sk-toggleable__label {cursor: pointer;display: block;width: 100%;margin-bottom: 0;padding: 0.3em;box-sizing: border-box;text-align: center;}#sk-container-id-5 label.sk-toggleable__label-arrow:before {content: \"▸\";float: left;margin-right: 0.25em;color: #696969;}#sk-container-id-5 label.sk-toggleable__label-arrow:hover:before {color: black;}#sk-container-id-5 div.sk-estimator:hover label.sk-toggleable__label-arrow:before {color: black;}#sk-container-id-5 div.sk-toggleable__content {max-height: 0;max-width: 0;overflow: hidden;text-align: left;background-color: #f0f8ff;}#sk-container-id-5 div.sk-toggleable__content pre {margin: 0.2em;color: black;border-radius: 0.25em;background-color: #f0f8ff;}#sk-container-id-5 input.sk-toggleable__control:checked~div.sk-toggleable__content {max-height: 200px;max-width: 100%;overflow: auto;}#sk-container-id-5 input.sk-toggleable__control:checked~label.sk-toggleable__label-arrow:before {content: \"▾\";}#sk-container-id-5 div.sk-estimator input.sk-toggleable__control:checked~label.sk-toggleable__label {background-color: #d4ebff;}#sk-container-id-5 div.sk-label input.sk-toggleable__control:checked~label.sk-toggleable__label {background-color: #d4ebff;}#sk-container-id-5 input.sk-hidden--visually {border: 0;clip: rect(1px 1px 1px 1px);clip: rect(1px, 1px, 1px, 1px);height: 1px;margin: -1px;overflow: hidden;padding: 0;position: absolute;width: 1px;}#sk-container-id-5 div.sk-estimator {font-family: monospace;background-color: #f0f8ff;border: 1px dotted black;border-radius: 0.25em;box-sizing: border-box;margin-bottom: 0.5em;}#sk-container-id-5 div.sk-estimator:hover {background-color: #d4ebff;}#sk-container-id-5 div.sk-parallel-item::after {content: \"\";width: 100%;border-bottom: 1px solid gray;flex-grow: 1;}#sk-container-id-5 div.sk-label:hover label.sk-toggleable__label {background-color: #d4ebff;}#sk-container-id-5 div.sk-serial::before {content: \"\";position: absolute;border-left: 1px solid gray;box-sizing: border-box;top: 0;bottom: 0;left: 50%;z-index: 0;}#sk-container-id-5 div.sk-serial {display: flex;flex-direction: column;align-items: center;background-color: white;padding-right: 0.2em;padding-left: 0.2em;position: relative;}#sk-container-id-5 div.sk-item {position: relative;z-index: 1;}#sk-container-id-5 div.sk-parallel {display: flex;align-items: stretch;justify-content: center;background-color: white;position: relative;}#sk-container-id-5 div.sk-item::before, #sk-container-id-5 div.sk-parallel-item::before {content: \"\";position: absolute;border-left: 1px solid gray;box-sizing: border-box;top: 0;bottom: 0;left: 50%;z-index: -1;}#sk-container-id-5 div.sk-parallel-item {display: flex;flex-direction: column;z-index: 1;position: relative;background-color: white;}#sk-container-id-5 div.sk-parallel-item:first-child::after {align-self: flex-end;width: 50%;}#sk-container-id-5 div.sk-parallel-item:last-child::after {align-self: flex-start;width: 50%;}#sk-container-id-5 div.sk-parallel-item:only-child::after {width: 0;}#sk-container-id-5 div.sk-dashed-wrapped {border: 1px dashed gray;margin: 0 0.4em 0.5em 0.4em;box-sizing: border-box;padding-bottom: 0.4em;background-color: white;}#sk-container-id-5 div.sk-label label {font-family: monospace;font-weight: bold;display: inline-block;line-height: 1.2em;}#sk-container-id-5 div.sk-label-container {text-align: center;}#sk-container-id-5 div.sk-container {/* jupyter's `normalize.less` sets `[hidden] { display: none; }` but bootstrap.min.css set `[hidden] { display: none !important; }` so we also need the `!important` here to be able to override the default hidden behavior on the sphinx rendered scikit-learn.org. See: https://github.com/scikit-learn/scikit-learn/issues/21755 */display: inline-block !important;position: relative;}#sk-container-id-5 div.sk-text-repr-fallback {display: none;}</style><div id=\"sk-container-id-5\" class=\"sk-top-container\"><div class=\"sk-text-repr-fallback\"><pre>LinearRegression()</pre><b>In a Jupyter environment, please rerun this cell to show the HTML representation or trust the notebook. <br />On GitHub, the HTML representation is unable to render, please try loading this page with nbviewer.org.</b></div><div class=\"sk-container\" hidden><div class=\"sk-item\"><div class=\"sk-estimator sk-toggleable\"><input class=\"sk-toggleable__control sk-hidden--visually\" id=\"sk-estimator-id-5\" type=\"checkbox\" checked><label for=\"sk-estimator-id-5\" class=\"sk-toggleable__label sk-toggleable__label-arrow\">LinearRegression</label><div class=\"sk-toggleable__content\"><pre>LinearRegression()</pre></div></div></div></div></div>"
      ],
      "text/plain": [
       "LinearRegression()"
      ]
     },
     "execution_count": 311,
     "metadata": {},
     "output_type": "execute_result"
    }
   ],
   "source": [
    "lm = LinearRegression()\n",
    "lm.fit(X_train, y_train)"
   ]
  },
  {
   "cell_type": "code",
   "execution_count": 312,
   "id": "b6717dab-44df-4e2f-8c9a-48b8512e1121",
   "metadata": {},
   "outputs": [
    {
     "name": "stdout",
     "output_type": "stream",
     "text": [
      "Coefficients: \n",
      " [1.58457383 1.31766187 0.00922962] -0.01576952014369718\n"
     ]
    }
   ],
   "source": [
    "print('Coefficients: \\n', lm.coef_, lm.intercept_)"
   ]
  },
  {
   "cell_type": "code",
   "execution_count": 313,
   "id": "43d24021-c92d-4d60-9f56-d19517f7ee8e",
   "metadata": {},
   "outputs": [
    {
     "data": {
      "text/plain": [
       "array([-0.02291519,  0.00248884,  0.02051763, -0.0704083 ,  0.00207737,\n",
       "        0.06487163, -0.20013522, -0.00513667, -0.03891277, -0.0448866 ,\n",
       "        0.00163641, -0.13084804,  0.09510359, -0.05703392, -0.0060633 ,\n",
       "        0.02440918,  0.00047068,  0.02479355,  0.25844412,  0.08101283,\n",
       "       -0.29286717,  0.01092468, -0.17459562, -0.1222292 ])"
      ]
     },
     "execution_count": 313,
     "metadata": {},
     "output_type": "execute_result"
    }
   ],
   "source": [
    "predictions = lm.predict(X_test)\n",
    "predictions"
   ]
  },
  {
   "cell_type": "code",
   "execution_count": 314,
   "id": "b950fc17-ab7e-44b3-a22f-9f3a018108c2",
   "metadata": {
    "scrolled": true
   },
   "outputs": [
    {
     "data": {
      "text/plain": [
       "Text(0, 0.5, 'Predicted Y')"
      ]
     },
     "execution_count": 314,
     "metadata": {},
     "output_type": "execute_result"
    },
    {
     "data": {
      "image/png": "[encoded data removed]",
      "text/plain": [
       "<Figure size 640x480 with 1 Axes>"
      ]
     },
     "metadata": {},
     "output_type": "display_data"
    }
   ],
   "source": [
    "plt.scatter(y_test,predictions)\n",
    "plt.xlabel('Y Test')\n",
    "plt.ylabel('Predicted Y')"
   ]
  },
  {
   "cell_type": "markdown",
   "id": "064e1b8d-df7b-45c9-ad4d-b6bbdfa49e04",
   "metadata": {},
   "source": [
    "Evaluating the Model"
   ]
  },
  {
   "cell_type": "code",
   "execution_count": 315,
   "id": "148a1e65-e7f1-4376-b04f-2d0edaa1c59a",
   "metadata": {},
   "outputs": [],
   "source": [
    "from sklearn import metrics"
   ]
  },
  {
   "cell_type": "code",
   "execution_count": 316,
   "id": "d3ebb423-66eb-4ab9-b955-da512a02be0e",
   "metadata": {},
   "outputs": [],
   "source": [
    "r2 = metrics.r2_score(y_test, predictions)\n",
    "n=55\n",
    "p=4\n",
    "Adj_r2 = 1-(((1-r2)*(n-1))/(n-p-1))"
   ]
  },
  {
   "cell_type": "code",
   "execution_count": 317,
   "id": "e552c843-678a-4979-83dc-72b857054d59",
   "metadata": {},
   "outputs": [
    {
     "name": "stdout",
     "output_type": "stream",
     "text": [
      "MSE: 0.05669934812015894\n",
      "R2: 0.2694178755363065\n",
      "adjusted R2: 0.21097130557921107\n"
     ]
    }
   ],
   "source": [
    "print('MSE:', metrics.mean_squared_error(y_test, predictions))\n",
    "print('R2:', r2)\n",
    "print('adjusted R2:', Adj_r2)"
   ]
  },
  {
   "cell_type": "markdown",
   "id": "63f659a6-e621-43ed-9346-f0b4a37aa964",
   "metadata": {},
   "source": [
    "I will do it again, but with only one explanatory coefficient"
   ]
  },
  {
   "cell_type": "code",
   "execution_count": 318,
   "id": "e778c979-05b4-437b-ba5b-06ebb8dc4e2e",
   "metadata": {},
   "outputs": [],
   "source": [
    "y = ff_data['y']\n",
    "X = ff_data[['Mkt-RF']]"
   ]
  },
  {
   "cell_type": "code",
   "execution_count": 319,
   "id": "c3b74243-360e-439c-8c22-a0e200d9c2e4",
   "metadata": {},
   "outputs": [],
   "source": [
    "X_train, X_test, y_train, y_test = train_test_split(X, y, test_size=0.3, random_state=101)"
   ]
  },
  {
   "cell_type": "code",
   "execution_count": 320,
   "id": "1e8d908b-3616-4808-a140-c93bbd5410ab",
   "metadata": {},
   "outputs": [
    {
     "data": {
      "text/html": [
       "<style>#sk-container-id-6 {color: black;background-color: white;}#sk-container-id-6 pre{padding: 0;}#sk-container-id-6 div.sk-toggleable {background-color: white;}#sk-container-id-6 label.sk-toggleable__label {cursor: pointer;display: block;width: 100%;margin-bottom: 0;padding: 0.3em;box-sizing: border-box;text-align: center;}#sk-container-id-6 label.sk-toggleable__label-arrow:before {content: \"▸\";float: left;margin-right: 0.25em;color: #696969;}#sk-container-id-6 label.sk-toggleable__label-arrow:hover:before {color: black;}#sk-container-id-6 div.sk-estimator:hover label.sk-toggleable__label-arrow:before {color: black;}#sk-container-id-6 div.sk-toggleable__content {max-height: 0;max-width: 0;overflow: hidden;text-align: left;background-color: #f0f8ff;}#sk-container-id-6 div.sk-toggleable__content pre {margin: 0.2em;color: black;border-radius: 0.25em;background-color: #f0f8ff;}#sk-container-id-6 input.sk-toggleable__control:checked~div.sk-toggleable__content {max-height: 200px;max-width: 100%;overflow: auto;}#sk-container-id-6 input.sk-toggleable__control:checked~label.sk-toggleable__label-arrow:before {content: \"▾\";}#sk-container-id-6 div.sk-estimator input.sk-toggleable__control:checked~label.sk-toggleable__label {background-color: #d4ebff;}#sk-container-id-6 div.sk-label input.sk-toggleable__control:checked~label.sk-toggleable__label {background-color: #d4ebff;}#sk-container-id-6 input.sk-hidden--visually {border: 0;clip: rect(1px 1px 1px 1px);clip: rect(1px, 1px, 1px, 1px);height: 1px;margin: -1px;overflow: hidden;padding: 0;position: absolute;width: 1px;}#sk-container-id-6 div.sk-estimator {font-family: monospace;background-color: #f0f8ff;border: 1px dotted black;border-radius: 0.25em;box-sizing: border-box;margin-bottom: 0.5em;}#sk-container-id-6 div.sk-estimator:hover {background-color: #d4ebff;}#sk-container-id-6 div.sk-parallel-item::after {content: \"\";width: 100%;border-bottom: 1px solid gray;flex-grow: 1;}#sk-container-id-6 div.sk-label:hover label.sk-toggleable__label {background-color: #d4ebff;}#sk-container-id-6 div.sk-serial::before {content: \"\";position: absolute;border-left: 1px solid gray;box-sizing: border-box;top: 0;bottom: 0;left: 50%;z-index: 0;}#sk-container-id-6 div.sk-serial {display: flex;flex-direction: column;align-items: center;background-color: white;padding-right: 0.2em;padding-left: 0.2em;position: relative;}#sk-container-id-6 div.sk-item {position: relative;z-index: 1;}#sk-container-id-6 div.sk-parallel {display: flex;align-items: stretch;justify-content: center;background-color: white;position: relative;}#sk-container-id-6 div.sk-item::before, #sk-container-id-6 div.sk-parallel-item::before {content: \"\";position: absolute;border-left: 1px solid gray;box-sizing: border-box;top: 0;bottom: 0;left: 50%;z-index: -1;}#sk-container-id-6 div.sk-parallel-item {display: flex;flex-direction: column;z-index: 1;position: relative;background-color: white;}#sk-container-id-6 div.sk-parallel-item:first-child::after {align-self: flex-end;width: 50%;}#sk-container-id-6 div.sk-parallel-item:last-child::after {align-self: flex-start;width: 50%;}#sk-container-id-6 div.sk-parallel-item:only-child::after {width: 0;}#sk-container-id-6 div.sk-dashed-wrapped {border: 1px dashed gray;margin: 0 0.4em 0.5em 0.4em;box-sizing: border-box;padding-bottom: 0.4em;background-color: white;}#sk-container-id-6 div.sk-label label {font-family: monospace;font-weight: bold;display: inline-block;line-height: 1.2em;}#sk-container-id-6 div.sk-label-container {text-align: center;}#sk-container-id-6 div.sk-container {/* jupyter's `normalize.less` sets `[hidden] { display: none; }` but bootstrap.min.css set `[hidden] { display: none !important; }` so we also need the `!important` here to be able to override the default hidden behavior on the sphinx rendered scikit-learn.org. See: https://github.com/scikit-learn/scikit-learn/issues/21755 */display: inline-block !important;position: relative;}#sk-container-id-6 div.sk-text-repr-fallback {display: none;}</style><div id=\"sk-container-id-6\" class=\"sk-top-container\"><div class=\"sk-text-repr-fallback\"><pre>LinearRegression()</pre><b>In a Jupyter environment, please rerun this cell to show the HTML representation or trust the notebook. <br />On GitHub, the HTML representation is unable to render, please try loading this page with nbviewer.org.</b></div><div class=\"sk-container\" hidden><div class=\"sk-item\"><div class=\"sk-estimator sk-toggleable\"><input class=\"sk-toggleable__control sk-hidden--visually\" id=\"sk-estimator-id-6\" type=\"checkbox\" checked><label for=\"sk-estimator-id-6\" class=\"sk-toggleable__label sk-toggleable__label-arrow\">LinearRegression</label><div class=\"sk-toggleable__content\"><pre>LinearRegression()</pre></div></div></div></div></div>"
      ],
      "text/plain": [
       "LinearRegression()"
      ]
     },
     "execution_count": 320,
     "metadata": {},
     "output_type": "execute_result"
    }
   ],
   "source": [
    "lm1 = LinearRegression()\n",
    "lm1.fit(X_train, y_train)"
   ]
  },
  {
   "cell_type": "code",
   "execution_count": 321,
   "id": "40c2dfd3-a5eb-4f61-9807-facfe494904b",
   "metadata": {},
   "outputs": [
    {
     "name": "stdout",
     "output_type": "stream",
     "text": [
      "Coefficients: \n",
      " [1.79887375] -0.023754585904323885\n"
     ]
    }
   ],
   "source": [
    "print('Coefficients: \\n', lm1.coef_, lm1.intercept_)"
   ]
  },
  {
   "cell_type": "code",
   "execution_count": 322,
   "id": "aa4ed59e-23b1-4bec-8b3f-bc7b3fe1a7b7",
   "metadata": {},
   "outputs": [
    {
     "data": {
      "text/plain": [
       "array([-0.06494879,  0.03165073,  0.01330221, -0.08941348,  0.00664638,\n",
       "        0.03740712, -0.16190809,  0.00196931, -0.00396697, -0.02267526,\n",
       "       -0.0206965 , -0.17000302,  0.02391557, -0.09157213,  0.00988435,\n",
       "        0.0476607 , -0.06602812,  0.02859264,  0.20056497, -0.02429425,\n",
       "       -0.26462378, -0.00414686, -0.19194928, -0.17539964])"
      ]
     },
     "execution_count": 322,
     "metadata": {},
     "output_type": "execute_result"
    }
   ],
   "source": [
    "predictions = lm1.predict(X_test)\n",
    "predictions"
   ]
  },
  {
   "cell_type": "code",
   "execution_count": 323,
   "id": "e1c3e1dd-6c4d-4b2b-a8e9-5588be480bed",
   "metadata": {},
   "outputs": [],
   "source": [
    "r2 = metrics.r2_score(y_test, predictions)\n",
    "n=55\n",
    "p=2\n",
    "Adj_r2 = 1-(((1-r2)*(n-1))/(n-p-1))"
   ]
  },
  {
   "cell_type": "code",
   "execution_count": 324,
   "id": "725620de-8270-432f-a1be-8f1a259f4dd3",
   "metadata": {},
   "outputs": [
    {
     "name": "stdout",
     "output_type": "stream",
     "text": [
      "MSE: 0.06468475397194325\n",
      "R2: 0.1665243685503387\n",
      "adjusted R2: 0.13446761349458258\n"
     ]
    }
   ],
   "source": [
    "print('MSE:', metrics.mean_squared_error(y_test, predictions))\n",
    "print('R2:', r2)\n",
    "print('adjusted R2:', Adj_r2)"
   ]
  },
  {
   "cell_type": "markdown",
   "id": "e32604b2-1bbb-4c1b-b05f-41b2ed7fbf89",
   "metadata": {},
   "source": [
    "Conclusion: The fama french three factor model is better than the CAPM model which is one factor only: 'Mkt-RF'"
   ]
  },
  {
   "cell_type": "code",
   "execution_count": 325,
   "id": "e0cc76e0-0f02-4be4-a31b-a6cc05be7e33",
   "metadata": {},
   "outputs": [],
   "source": [
    "#note the dataset is really small and perhaps that is why the models are not very accurate"
   ]
  },
  {
   "cell_type": "code",
   "execution_count": null,
   "id": "eeafdaaf-28f9-487e-befd-215bd37c9787",
   "metadata": {},
   "outputs": [],
   "source": []
  }
 ],
 "metadata": {
  "kernelspec": {
   "display_name": "Python 3 (ipykernel)",
   "language": "python",
   "name": "python3"
  },
  "language_info": {
   "codemirror_mode": {
    "name": "ipython",
    "version": 3
   },
   "file_extension": ".py",
   "mimetype": "text/x-python",
   "name": "python",
   "nbconvert_exporter": "python",
   "pygments_lexer": "ipython3",
   "version": "3.10.11"
  }
 },
 "nbformat": 4,
 "nbformat_minor": 5
}
